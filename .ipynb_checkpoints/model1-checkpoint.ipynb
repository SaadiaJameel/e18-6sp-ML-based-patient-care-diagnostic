{
 "cells": [
  {
   "cell_type": "code",
   "execution_count": 75,
   "id": "9857ee4e",
   "metadata": {},
   "outputs": [],
   "source": [
    "import pandas as pd\n",
    "from sklearn.tree import DecisionTreeClassifier\n",
    "from sklearn.model_selection import train_test_split\n",
    "from sklearn import metrics\n",
    "\n",
    "import warnings\n",
    "warnings.filterwarnings('ignore')"
   ]
  },
  {
   "cell_type": "code",
   "execution_count": 76,
   "id": "bf07a92c",
   "metadata": {},
   "outputs": [],
   "source": [
    "# Dataset loading and exploratory data analysis\n",
    "heart_df = pd.read_csv('heart_failure_clinical_records_dataset.csv')\n",
    "heart_df.head()"
   ]
  },
  {
   "cell_type": "code",
   "execution_count": 77,
   "id": "b690dcc2",
   "metadata": {},
   "outputs": [],
   "source": [
    "# Identify missing values\n",
    "heart_df.isna().sum()"
   ]
  },
  {
   "cell_type": "code",
   "execution_count": 78,
   "id": "2c1825cc",
   "metadata": {},
   "outputs": [],
   "source": [
    "# Handle missing values\n",
    "df = heart_df.dropna();\n",
    "df.isna().sum()"
   ]
  },
  {
   "cell_type": "code",
   "execution_count": 79,
   "id": "c4e4df18",
   "metadata": {},
   "outputs": [],
   "source": [
    "import matplotlib.pyplot as plt\n",
    "import seaborn as sns\n",
    "\n",
    "# Gaining insights from the correlation matrix\n",
    "corr_matrix = df.corr()\n",
    "\n",
    "plt.figure(figsize=(12,8), dpi=100)\n",
    "sns.heatmap(corr_matrix, center=0, cmap='Blues', annot=True)\n",
    "\n",
    "plt.show()"
   ]
  },
  {
   "cell_type": "code",
   "execution_count": 80,
   "id": "9cc904db",
   "metadata": {},
   "outputs": [],
   "source": [
    "## Defining feature vector and target variable\n",
    "\n",
    "# Drop the target variable\n",
    "X = df.drop(['DEATH_EVENT'], axis=1)\n",
    "y = df['DEATH_EVENT']\n",
    "\n",
    "y.head()"
   ]
  },
  {
   "cell_type": "code",
   "execution_count": 81,
   "id": "5824c150",
   "metadata": {},
   "outputs": [],
   "source": [
    "# Splitting data\n",
    "\n",
    "X_train, X_test, y_train, y_test = train_test_split(X, y, test_size=0.25, random_state=1)\n",
    "X_train.shape, X_test.shape, "
   ]
  },
  {
   "cell_type": "code",
   "execution_count": 82,
   "id": "1587ffcf",
   "metadata": {},
   "outputs": [],
   "source": [
    "# Eliminating erelavant features from the dataset used in the model\n",
    "correlated_features = set()\n",
    "\n",
    "for i in range(len(corr_matrix.columns)):\n",
    "    for j in range(i):\n",
    "        if abs(corr_matrix.iloc[i,j]) > 0.6:\n",
    "            colname = corr_matrix.columns[i]\n",
    "            correlated_features.add(colname)\n",
    "            \n",
    "print(correlated_features)\n",
    "\n",
    "\n",
    "# Remove the correlated features from the dataset\n",
    "X_train.drop(labels= correlated_features, axis = 1, inplace= True)\n",
    "X_test.drop(labels= correlated_features, axis = 1, inplace= True)\n",
    "\n",
    "\n",
    "## Encoding categorical variables\n",
    "\n",
    "X_train.dtypes\n",
    "\n",
    "import category_encoders as ce\n",
    "\n",
    "encoder= ce.OrdinalEncoder(cols=['age', 'anaemia', 'creatinine_phosphokinase', 'diabetes', 'ejection_fraction', 'high_blood_pressure', 'platelets', 'serum_creatinine', 'serum_sodium', 'sex', 'smoking', 'time'])\n",
    "\n",
    "X_train= encoder.fit_transform(X_train)\n",
    "X_test= encoder.transform(X_test)"
   ]
  },
  {
   "cell_type": "code",
   "execution_count": 83,
   "id": "9171b3ae",
   "metadata": {},
   "outputs": [],
   "source": [
    "# Build the decision tree classifier- gini\n",
    "clf_gini= DecisionTreeClassifier(criterion='gini',\n",
    "                                max_depth= 2,\n",
    "                                random_state= 0)\n",
    "\n",
    "# Train the classifier\n",
    "clf_gini.fit(X_train, y_train)\n",
    "\n",
    "# Predicting results for the test set\n",
    "y_pred= clf_gini.predict(X_test)\n",
    "\n",
    "# Evaluate the model\n",
    "print('Accuracy: ', metrics.accuracy_score(y_test, y_pred))\n",
    "\n",
    "# Compute the precision of the model\n",
    "precision = metrics.precision_score(y_test, y_pred)\n",
    "print('Precision: ', precision)\n",
    "\n",
    "# Compute the recall of the model\n",
    "recall = metrics.recall_score(y_test, y_pred)\n",
    "print('Recall: ', recall)\n",
    "\n",
    "# Compute the F1 score of the model\n",
    "f1 = metrics.f1_score(y_test, y_pred)\n",
    "print('F1 score: ', f1)"
   ]
  },
  {
   "cell_type": "code",
   "execution_count": null,
   "id": "37d15cda",
   "metadata": {},
   "outputs": [],
   "source": []
  }
 ],
 "metadata": {
  "kernelspec": {
   "display_name": "Python 3 (ipykernel)",
   "language": "python",
   "name": "python3"
  },
  "language_info": {
   "codemirror_mode": {
    "name": "ipython",
    "version": 3
   },
   "file_extension": ".py",
   "mimetype": "text/x-python",
   "name": "python",
   "nbconvert_exporter": "python",
   "pygments_lexer": "ipython3",
   "version": "3.11.0"
  }
 },
 "nbformat": 4,
 "nbformat_minor": 5
}
