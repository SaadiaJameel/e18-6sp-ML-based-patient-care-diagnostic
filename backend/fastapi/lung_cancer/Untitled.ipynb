{
 "cells": [
  {
   "cell_type": "code",
   "execution_count": 27,
   "id": "16d8f43b",
   "metadata": {},
   "outputs": [],
   "source": [
    "#import data\n",
    "import numpy as np\n",
    "import pandas as pd\n",
    "from sklearn.model_selection import train_test_split\n",
    "from sklearn.tree import DecisionTreeClassifier"
   ]
  },
  {
   "cell_type": "code",
   "execution_count": 28,
   "id": "1eb6411e",
   "metadata": {},
   "outputs": [],
   "source": [
    "lung_df = pd.read_csv(\"cancer_patient_data_sets.csv\")\n",
    "lung_df.head()"
   ]
  },
  {
   "cell_type": "code",
   "execution_count": 29,
   "id": "da73c681",
   "metadata": {},
   "outputs": [],
   "source": [
    "print(lung_df.isnull().sum())\n",
    "lung_df.drop_duplicates(keep='first')"
   ]
  },
  {
   "cell_type": "code",
   "execution_count": 30,
   "id": "4e7e82e2",
   "metadata": {},
   "outputs": [],
   "source": [
    "x = lung_df.drop('index', axis=1)\n",
    "x = x.drop('Patient Id', axis=1)\n",
    "y = x['Level']\n",
    "x = x.drop('Level', axis=1)\n",
    "y"
   ]
  },
  {
   "cell_type": "code",
   "execution_count": 31,
   "id": "df6dbf3f",
   "metadata": {},
   "outputs": [],
   "source": [
    "X_train, X_test, y_train, y_test = train_test_split(x, y, test_size=0.2, random_state=42)"
   ]
  },
  {
   "cell_type": "code",
   "execution_count": 32,
   "id": "ed5c948b",
   "metadata": {},
   "outputs": [],
   "source": [
    "from sklearn.ensemble import RandomForestClassifier\n",
    "\n",
    "classifier = RandomForestClassifier()\n",
    "classifier.fit(X_train, y_train)"
   ]
  },
  {
   "cell_type": "code",
   "execution_count": 33,
   "id": "bc7ad566",
   "metadata": {},
   "outputs": [],
   "source": [
    "y_pred = classifier.predict(X_test)"
   ]
  },
  {
   "cell_type": "code",
   "execution_count": 34,
   "id": "000e090c",
   "metadata": {},
   "outputs": [],
   "source": [
    "from sklearn.metrics import confusion_matrix\n",
    "from sklearn.metrics import accuracy_score\n",
    "result = confusion_matrix(y_test, y_pred)\n",
    "accuracy_score(y_test, y_pred)\n",
    "result"
   ]
  },
  {
   "cell_type": "code",
   "execution_count": 35,
   "id": "5e0e356e",
   "metadata": {},
   "outputs": [],
   "source": [
    "import pickle\n",
    "pickle_out = open(\"lung_cancer.pkl\",\"wb\")\n",
    "pickle.dump(classifier, pickle_out)\n",
    "pickle_out.close()"
   ]
  },
  {
   "cell_type": "code",
   "execution_count": 36,
   "id": "38b37807",
   "metadata": {},
   "outputs": [],
   "source": [
    "classifier.predict([[17,1,3,1,5,3,4,2,2,2,2,4,2,3,1,3,7,8,6,2,7,7,2]])"
   ]
  },
  {
   "cell_type": "code",
   "execution_count": 37,
   "id": "60b41493",
   "metadata": {},
   "outputs": [],
   "source": [
    "# # Folds\n",
    "# X=x\n",
    "# from sklearn.model_selection import KFold, cross_val_score\n",
    "# from sklearn.naive_bayes import GaussianNB\n",
    "# from sklearn.metrics import accuracy_score\n",
    "# import numpy as np\n",
    "\n",
    "# # precision, recall and F1\n",
    "# from sklearn.preprocessing import LabelBinarizer\n",
    "\n",
    "# # Create an instance of KFold with 10 folds\n",
    "# kf = KFold(n_splits=10, shuffle=True, random_state=0)\n",
    "\n",
    "# # lb = LabelBinarizer()\n",
    "# # y = np.array([number[0] for number in lb.fit_transform(y)])\n",
    "\n",
    "# # Build the decision tree classifier- gini\n",
    "# clf_gini= DecisionTreeClassifier(criterion='gini',\n",
    "#                                 max_depth= 2,\n",
    "#                                 random_state= 0)\n",
    "\n",
    "\n",
    "# scores_1 = cross_val_score(clf_gini, X, y, cv=kf)\n",
    "# print(\"Mean Accuracy:\", scores_1.mean())\n",
    "\n",
    "# scores_1 = cross_val_score(clf_gini, X, y, cv=kf, scoring='precision')\n",
    "# print(\"Mean precision:\", scores_1.mean())\n",
    "\n",
    "# scores_1 = cross_val_score(clf_gini, X, y, cv=kf, scoring='recall')\n",
    "# print(\"Mean recall:\", scores_1.mean())\n",
    "\n",
    "# scores_1 = cross_val_score(clf_gini, X, y, cv=kf, scoring='f1')\n",
    "# print(\"Mean F1 Score:\", scores_1.mean())"
   ]
  },
  {
   "cell_type": "code",
   "execution_count": null,
   "id": "a7ab6553",
   "metadata": {},
   "outputs": [],
   "source": []
  }
 ],
 "metadata": {
  "kernelspec": {
   "display_name": "Python 3 (ipykernel)",
   "language": "python",
   "name": "python3"
  },
  "language_info": {
   "codemirror_mode": {
    "name": "ipython",
    "version": 3
   },
   "file_extension": ".py",
   "mimetype": "text/x-python",
   "name": "python",
   "nbconvert_exporter": "python",
   "pygments_lexer": "ipython3",
   "version": "3.11.0"
  }
 },
 "nbformat": 4,
 "nbformat_minor": 5
}
