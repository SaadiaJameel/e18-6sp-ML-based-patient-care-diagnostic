{
 "cells": [
  {
   "cell_type": "markdown",
   "metadata": {},
   "source": [
    "# chagpt extension\n",
    "\n",
    "use second one\n"
   ]
  },
  {
   "cell_type": "code",
   "execution_count": 1,
   "metadata": {},
   "outputs": [],
   "source": [
    "# import os\n",
    "# import openai\n",
    "#from dotenv.main import load_dotenv\n",
    "\n",
    "#openai.api_key=os.getenv('key')\n",
    "\n",
    "\n",
    "# completion = openai.ChatCompletion.create(\n",
    "#   model=\"gpt-3.5-turbo\",\n",
    "#   messages=[\n",
    "#     {\"role\": \"system\", \"content\": \"i want to diagnose an disease\"},\n",
    "#     {\"role\": \"user\", \"content\": \"Hello!\"}\n",
    "#   ]\n",
    "# )\n",
    "\n",
    "# print(completion.choices[0].message)\n"
   ]
  },
  {
   "cell_type": "code",
   "execution_count": 2,
   "metadata": {},
   "outputs": [
    {
     "ename": "ModuleNotFoundError",
     "evalue": "No module named 'openai'",
     "output_type": "error",
     "traceback": [
      "\u001b[1;31m---------------------------------------------------------------------------\u001b[0m",
      "\u001b[1;31mModuleNotFoundError\u001b[0m                       Traceback (most recent call last)",
      "Cell \u001b[1;32mIn[2], line 1\u001b[0m\n\u001b[1;32m----> 1\u001b[0m \u001b[38;5;28;01mimport\u001b[39;00m \u001b[38;5;21;01mopenai\u001b[39;00m\n\u001b[0;32m      2\u001b[0m \u001b[38;5;28;01mimport\u001b[39;00m \u001b[38;5;21;01mjson\u001b[39;00m\n\u001b[0;32m      3\u001b[0m \u001b[38;5;28;01mimport\u001b[39;00m \u001b[38;5;21;01mtime\u001b[39;00m\n",
      "\u001b[1;31mModuleNotFoundError\u001b[0m: No module named 'openai'"
     ]
    }
   ],
   "source": [
    "import openai\n",
    "import json\n",
    "import time\n",
    "import os\n",
    "from dotenv.main import load_dotenv\n",
    "import os\n",
    "\n",
    "\n",
    "openai.api_key=os.getenv('key')\n",
    "\n",
    "timestamp = time.strftime(\"%Y_%m_%d-%H_%M_%S\", time.gmtime())\n",
    "filename = timestamp + \".txt\"\n",
    "\n",
    "if not os.path.exists(filename):\n",
    "    with open(filename, 'w') as f:\n",
    "        f.write(\"User: Welcome to OpenAI chat!\\n\")\n",
    "\n",
    "discussions=[{\"role\": \"system\", \n",
    "              \"content\": \"You are a helpful assistant.\"}]\n",
    "\n",
    "while (True):\n",
    "    p=input(\"Enter quit to quit, or enter your prompt: \")\n",
    "    if (p==\"quit\"):\n",
    "        break\n",
    "    \n",
    "    discussions.append({\"role\": \"user\", \"content\":p})\n",
    "    \n",
    "    completion = openai.ChatCompletion.create(\n",
    "        model=\"gpt-3.5-turbo\",\n",
    "        messages=discussions\n",
    "        )\n",
    "\n",
    "    x=json.loads(str(completion))\n",
    "    response = x[\"choices\"][0][\"message\"][\"content\"]\n",
    "    \n",
    "    discussions.append({\"role\": \"assistant\", \"content\": response})\n",
    "    \n",
    "    with open(filename, 'a') as f:\n",
    "        f.write(\"User: \" + p + \"\\n\")\n",
    "        f.write(\"AI: \" + response + \"\\n\")\n",
    "    \n",
    "    print(\"\\nAI says: \", response, \"\\n\")\n",
    "\n",
    "print(\"Have a nice day!\")"
   ]
  },
  {
   "cell_type": "code",
   "execution_count": null,
   "metadata": {},
   "outputs": [],
   "source": []
  }
 ],
 "metadata": {
  "kernelspec": {
   "display_name": "Python 3 (ipykernel)",
   "language": "python",
   "name": "python3"
  },
  "language_info": {
   "codemirror_mode": {
    "name": "ipython",
    "version": 3
   },
   "file_extension": ".py",
   "mimetype": "text/x-python",
   "name": "python",
   "nbconvert_exporter": "python",
   "pygments_lexer": "ipython3",
   "version": "3.11.4"
  }
 },
 "nbformat": 4,
 "nbformat_minor": 2
}
